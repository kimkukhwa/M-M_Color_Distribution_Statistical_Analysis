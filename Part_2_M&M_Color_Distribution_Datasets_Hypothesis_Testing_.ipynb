{
  "nbformat": 4,
  "nbformat_minor": 0,
  "metadata": {
    "colab": {
      "name": "Part 2. M&M Color Distribution Datasets Hypothesis Testing .ipynb",
      "provenance": [],
      "collapsed_sections": [],
      "mount_file_id": "1SWa1YZiBsSTYx_tNLdR2CRFbcZStzRJO",
      "authorship_tag": "ABX9TyMOT5GHzsTwpq2fli3d2LrR",
      "include_colab_link": true
    },
    "kernelspec": {
      "name": "python3",
      "display_name": "Python 3"
    },
    "language_info": {
      "name": "python"
    }
  },
  "cells": [
    {
      "cell_type": "markdown",
      "metadata": {
        "id": "view-in-github",
        "colab_type": "text"
      },
      "source": [
        "<a href=\"https://colab.research.google.com/github/kimkukhwa/M-M_Color_Distribution_Statistical_Analysis/blob/main/Part_2_M%26M_Color_Distribution_Datasets_Hypothesis_Testing_.ipynb\" target=\"_parent\"><img src=\"https://colab.research.google.com/assets/colab-badge.svg\" alt=\"Open In Colab\"/></a>"
      ]
    },
    {
      "cell_type": "markdown",
      "source": [
        "# Goodness of Fit Test\n",
        "To determine whether or not an observed categorical variable follows a expected distribution.\n",
        "\n",
        "\"... checked out M&M’s web site. According to it, each package of Milk Chocolate M&M’s should contain 24% blue, 14% brown, 16% green, 20% orange, 13% red, and 14% yellow M&M’s.\" https://joshmadison.com/2007/12/02/mms-color-distribution-analysis/#graphs"
      ],
      "metadata": {
        "id": "yBH8N9e2NW99"
      }
    },
    {
      "cell_type": "markdown",
      "source": [
        "## H0: A variable follows a hypothesized distribution.\n",
        "## H1: A variable does not follow a hypothesized distribution."
      ],
      "metadata": {
        "id": "EXqxAzsaSEkE"
      }
    },
    {
      "cell_type": "code",
      "execution_count": 12,
      "metadata": {
        "id": "QuafxSyTNIAS"
      },
      "outputs": [],
      "source": [
        "import scipy.stats as stats\n",
        "import pandas as pd\n",
        "import numpy as np"
      ]
    },
    {
      "cell_type": "code",
      "source": [
        "sample_db=pd.read_csv('/content/drive/MyDrive/Personal/mm_analysis.csv',index_col=0)\n",
        "sample_db.head()\n"
      ],
      "metadata": {
        "id": "pr_KcAqPNcqs"
      },
      "execution_count": 16,
      "outputs": []
    },
    {
      "cell_type": "code",
      "source": [
        "sample=sample_db[sample_db['package_n']==48]\n",
        "sample"
      ],
      "metadata": {
        "colab": {
          "base_uri": "https://localhost:8080/",
          "height": 238
        },
        "id": "3Km5BwgkON5i",
        "outputId": "42f66533-db04-42ac-fb72-5b024bf2f7bb"
      },
      "execution_count": 45,
      "outputs": [
        {
          "output_type": "execute_result",
          "data": {
            "text/html": [
              "\n",
              "  <div id=\"df-31dafe71-89cd-4de8-bc85-2febbb41f163\">\n",
              "    <div class=\"colab-df-container\">\n",
              "      <div>\n",
              "<style scoped>\n",
              "    .dataframe tbody tr th:only-of-type {\n",
              "        vertical-align: middle;\n",
              "    }\n",
              "\n",
              "    .dataframe tbody tr th {\n",
              "        vertical-align: top;\n",
              "    }\n",
              "\n",
              "    .dataframe thead th {\n",
              "        text-align: right;\n",
              "    }\n",
              "</style>\n",
              "<table border=\"1\" class=\"dataframe\">\n",
              "  <thead>\n",
              "    <tr style=\"text-align: right;\">\n",
              "      <th></th>\n",
              "      <th>package_n</th>\n",
              "      <th>Color</th>\n",
              "      <th>Qty observed</th>\n",
              "      <th>pack_totalQ</th>\n",
              "      <th>%ofpack</th>\n",
              "      <th>avgQ</th>\n",
              "      <th>% expected</th>\n",
              "      <th>Qty expected</th>\n",
              "      <th>Qty diff</th>\n",
              "    </tr>\n",
              "  </thead>\n",
              "  <tbody>\n",
              "    <tr>\n",
              "      <th>282</th>\n",
              "      <td>48</td>\n",
              "      <td>Blue</td>\n",
              "      <td>14</td>\n",
              "      <td>55</td>\n",
              "      <td>25.45</td>\n",
              "      <td>55</td>\n",
              "      <td>24</td>\n",
              "      <td>13.0</td>\n",
              "      <td>1.0</td>\n",
              "    </tr>\n",
              "    <tr>\n",
              "      <th>283</th>\n",
              "      <td>48</td>\n",
              "      <td>Brown</td>\n",
              "      <td>8</td>\n",
              "      <td>55</td>\n",
              "      <td>14.55</td>\n",
              "      <td>55</td>\n",
              "      <td>14</td>\n",
              "      <td>8.0</td>\n",
              "      <td>0.0</td>\n",
              "    </tr>\n",
              "    <tr>\n",
              "      <th>284</th>\n",
              "      <td>48</td>\n",
              "      <td>Green</td>\n",
              "      <td>10</td>\n",
              "      <td>55</td>\n",
              "      <td>18.18</td>\n",
              "      <td>55</td>\n",
              "      <td>16</td>\n",
              "      <td>9.0</td>\n",
              "      <td>1.0</td>\n",
              "    </tr>\n",
              "    <tr>\n",
              "      <th>285</th>\n",
              "      <td>48</td>\n",
              "      <td>Orange</td>\n",
              "      <td>9</td>\n",
              "      <td>55</td>\n",
              "      <td>16.36</td>\n",
              "      <td>55</td>\n",
              "      <td>20</td>\n",
              "      <td>11.0</td>\n",
              "      <td>-2.0</td>\n",
              "    </tr>\n",
              "    <tr>\n",
              "      <th>286</th>\n",
              "      <td>48</td>\n",
              "      <td>Red</td>\n",
              "      <td>8</td>\n",
              "      <td>55</td>\n",
              "      <td>14.55</td>\n",
              "      <td>55</td>\n",
              "      <td>13</td>\n",
              "      <td>7.0</td>\n",
              "      <td>1.0</td>\n",
              "    </tr>\n",
              "    <tr>\n",
              "      <th>287</th>\n",
              "      <td>48</td>\n",
              "      <td>Yellow</td>\n",
              "      <td>6</td>\n",
              "      <td>55</td>\n",
              "      <td>10.91</td>\n",
              "      <td>55</td>\n",
              "      <td>14</td>\n",
              "      <td>8.0</td>\n",
              "      <td>-2.0</td>\n",
              "    </tr>\n",
              "  </tbody>\n",
              "</table>\n",
              "</div>\n",
              "      <button class=\"colab-df-convert\" onclick=\"convertToInteractive('df-31dafe71-89cd-4de8-bc85-2febbb41f163')\"\n",
              "              title=\"Convert this dataframe to an interactive table.\"\n",
              "              style=\"display:none;\">\n",
              "        \n",
              "  <svg xmlns=\"http://www.w3.org/2000/svg\" height=\"24px\"viewBox=\"0 0 24 24\"\n",
              "       width=\"24px\">\n",
              "    <path d=\"M0 0h24v24H0V0z\" fill=\"none\"/>\n",
              "    <path d=\"M18.56 5.44l.94 2.06.94-2.06 2.06-.94-2.06-.94-.94-2.06-.94 2.06-2.06.94zm-11 1L8.5 8.5l.94-2.06 2.06-.94-2.06-.94L8.5 2.5l-.94 2.06-2.06.94zm10 10l.94 2.06.94-2.06 2.06-.94-2.06-.94-.94-2.06-.94 2.06-2.06.94z\"/><path d=\"M17.41 7.96l-1.37-1.37c-.4-.4-.92-.59-1.43-.59-.52 0-1.04.2-1.43.59L10.3 9.45l-7.72 7.72c-.78.78-.78 2.05 0 2.83L4 21.41c.39.39.9.59 1.41.59.51 0 1.02-.2 1.41-.59l7.78-7.78 2.81-2.81c.8-.78.8-2.07 0-2.86zM5.41 20L4 18.59l7.72-7.72 1.47 1.35L5.41 20z\"/>\n",
              "  </svg>\n",
              "      </button>\n",
              "      \n",
              "  <style>\n",
              "    .colab-df-container {\n",
              "      display:flex;\n",
              "      flex-wrap:wrap;\n",
              "      gap: 12px;\n",
              "    }\n",
              "\n",
              "    .colab-df-convert {\n",
              "      background-color: #E8F0FE;\n",
              "      border: none;\n",
              "      border-radius: 50%;\n",
              "      cursor: pointer;\n",
              "      display: none;\n",
              "      fill: #1967D2;\n",
              "      height: 32px;\n",
              "      padding: 0 0 0 0;\n",
              "      width: 32px;\n",
              "    }\n",
              "\n",
              "    .colab-df-convert:hover {\n",
              "      background-color: #E2EBFA;\n",
              "      box-shadow: 0px 1px 2px rgba(60, 64, 67, 0.3), 0px 1px 3px 1px rgba(60, 64, 67, 0.15);\n",
              "      fill: #174EA6;\n",
              "    }\n",
              "\n",
              "    [theme=dark] .colab-df-convert {\n",
              "      background-color: #3B4455;\n",
              "      fill: #D2E3FC;\n",
              "    }\n",
              "\n",
              "    [theme=dark] .colab-df-convert:hover {\n",
              "      background-color: #434B5C;\n",
              "      box-shadow: 0px 1px 3px 1px rgba(0, 0, 0, 0.15);\n",
              "      filter: drop-shadow(0px 1px 2px rgba(0, 0, 0, 0.3));\n",
              "      fill: #FFFFFF;\n",
              "    }\n",
              "  </style>\n",
              "\n",
              "      <script>\n",
              "        const buttonEl =\n",
              "          document.querySelector('#df-31dafe71-89cd-4de8-bc85-2febbb41f163 button.colab-df-convert');\n",
              "        buttonEl.style.display =\n",
              "          google.colab.kernel.accessAllowed ? 'block' : 'none';\n",
              "\n",
              "        async function convertToInteractive(key) {\n",
              "          const element = document.querySelector('#df-31dafe71-89cd-4de8-bc85-2febbb41f163');\n",
              "          const dataTable =\n",
              "            await google.colab.kernel.invokeFunction('convertToInteractive',\n",
              "                                                     [key], {});\n",
              "          if (!dataTable) return;\n",
              "\n",
              "          const docLinkHtml = 'Like what you see? Visit the ' +\n",
              "            '<a target=\"_blank\" href=https://colab.research.google.com/notebooks/data_table.ipynb>data table notebook</a>'\n",
              "            + ' to learn more about interactive tables.';\n",
              "          element.innerHTML = '';\n",
              "          dataTable['output_type'] = 'display_data';\n",
              "          await google.colab.output.renderOutput(dataTable, element);\n",
              "          const docLink = document.createElement('div');\n",
              "          docLink.innerHTML = docLinkHtml;\n",
              "          element.appendChild(docLink);\n",
              "        }\n",
              "      </script>\n",
              "    </div>\n",
              "  </div>\n",
              "  "
            ],
            "text/plain": [
              "     package_n   Color  Qty observed  pack_totalQ  %ofpack  avgQ  % expected  \\\n",
              "282         48    Blue            14           55    25.45    55          24   \n",
              "283         48   Brown             8           55    14.55    55          14   \n",
              "284         48   Green            10           55    18.18    55          16   \n",
              "285         48  Orange             9           55    16.36    55          20   \n",
              "286         48     Red             8           55    14.55    55          13   \n",
              "287         48  Yellow             6           55    10.91    55          14   \n",
              "\n",
              "     Qty expected  Qty diff  \n",
              "282          13.0       1.0  \n",
              "283           8.0       0.0  \n",
              "284           9.0       1.0  \n",
              "285          11.0      -2.0  \n",
              "286           7.0       1.0  \n",
              "287           8.0      -2.0  "
            ]
          },
          "metadata": {},
          "execution_count": 45
        }
      ]
    },
    {
      "cell_type": "code",
      "source": [
        "expected=sample['% expected']\n",
        "expected"
      ],
      "metadata": {
        "colab": {
          "base_uri": "https://localhost:8080/"
        },
        "id": "5rVPZ7tKOYrs",
        "outputId": "e8cfe588-cdb3-47ed-a2fd-ac32bb2c108f"
      },
      "execution_count": 27,
      "outputs": [
        {
          "output_type": "execute_result",
          "data": {
            "text/plain": [
              "174    24\n",
              "175    14\n",
              "176    16\n",
              "177    20\n",
              "178    13\n",
              "179    14\n",
              "Name: % expected, dtype: int64"
            ]
          },
          "metadata": {},
          "execution_count": 27
        }
      ]
    },
    {
      "cell_type": "code",
      "source": [
        "observed=sample['%ofpack']\n",
        "observed"
      ],
      "metadata": {
        "colab": {
          "base_uri": "https://localhost:8080/"
        },
        "id": "_IuXUGO4Qv41",
        "outputId": "2e755f19-dc67-4603-8e99-2f7c95aa5198"
      },
      "execution_count": 30,
      "outputs": [
        {
          "output_type": "execute_result",
          "data": {
            "text/plain": [
              "174     8.77\n",
              "175    15.79\n",
              "176    17.54\n",
              "177    26.32\n",
              "178    12.28\n",
              "179    19.30\n",
              "Name: %ofpack, dtype: float64"
            ]
          },
          "metadata": {},
          "execution_count": 30
        }
      ]
    },
    {
      "cell_type": "markdown",
      "source": [
        "# Chi-Square Goodness of Fit Test using the chisquare function from the SciPy library"
      ],
      "metadata": {
        "id": "WDRIO2krS5h7"
      }
    },
    {
      "cell_type": "code",
      "source": [
        "#perform Chi-Square Goodness of Fit Test\n",
        "\n",
        "print (sample_db[sample_db['package_n']==30].T.reset_index())\n",
        "sample30=sample_db[sample_db['package_n']==30]\n",
        "expected=sample30['% expected']\n",
        "observed=sample30['%ofpack']\n",
        "\n",
        "stats.chisquare(f_obs=observed,f_exp=expected)"
      ],
      "metadata": {
        "colab": {
          "base_uri": "https://localhost:8080/"
        },
        "id": "wAOAWnN2RV92",
        "outputId": "ef90623b-4a7d-4656-fedd-ba61f4f90da3"
      },
      "execution_count": 39,
      "outputs": [
        {
          "output_type": "stream",
          "name": "stdout",
          "text": [
            "          index   174    175    176     177    178     179\n",
            "0     package_n    30     30     30      30     30      30\n",
            "1         Color  Blue  Brown  Green  Orange    Red  Yellow\n",
            "2  Qty observed     5      9     10      15      7      11\n",
            "3   pack_totalQ    57     57     57      57     57      57\n",
            "4       %ofpack  8.77  15.79  17.54   26.32  12.28    19.3\n",
            "5          avgQ    55     55     55      55     55      55\n",
            "6    % expected    24     14     16      20     13      14\n",
            "7  Qty expected  14.0    8.0    9.0    11.0    7.0     8.0\n",
            "8      Qty diff  -9.0    1.0    1.0     4.0    0.0     3.0\n"
          ]
        },
        {
          "output_type": "execute_result",
          "data": {
            "text/plain": [
              "Power_divergenceResult(statistic=14.085218946886448, pvalue=0.01507706014782214)"
            ]
          },
          "metadata": {},
          "execution_count": 39
        }
      ]
    },
    {
      "cell_type": "markdown",
      "source": [
        "### Result: when the ['package_n']==30, The Chi-Square test statistic is found to be 14.1 and the corresponding p-value is 0.015.\n",
        "\n",
        "### Interpretation: Since the p-value (0.015) is less than 0.05, we reject the null hypothesis. This means we do have sufficient evidence to say that the true color distribution of M$M (package 30) is different from the distribution that the company claimed."
      ],
      "metadata": {
        "id": "LFyB4CYBTABH"
      }
    },
    {
      "cell_type": "code",
      "source": [
        "print (sample_db[sample_db['package_n']==48].T.reset_index())\n",
        "sample30=sample_db[sample_db['package_n']==48]\n",
        "expected=sample30['% expected']\n",
        "observed=sample30['%ofpack']\n",
        "\n",
        "stats.chisquare(f_obs=observed,f_exp=expected)"
      ],
      "metadata": {
        "colab": {
          "base_uri": "https://localhost:8080/"
        },
        "id": "ed8v6DytSs7G",
        "outputId": "96441b04-5956-460d-d9b8-3a026cb56713"
      },
      "execution_count": 46,
      "outputs": [
        {
          "output_type": "stream",
          "name": "stdout",
          "text": [
            "          index    282    283    284     285    286     287\n",
            "0     package_n     48     48     48      48     48      48\n",
            "1         Color   Blue  Brown  Green  Orange    Red  Yellow\n",
            "2  Qty observed     14      8     10       9      8       6\n",
            "3   pack_totalQ     55     55     55      55     55      55\n",
            "4       %ofpack  25.45  14.55  18.18   16.36  14.55   10.91\n",
            "5          avgQ     55     55     55      55     55      55\n",
            "6    % expected     24     14     16      20     13      14\n",
            "7  Qty expected   13.0    8.0    9.0    11.0    7.0     8.0\n",
            "8      Qty diff    1.0    0.0    1.0    -2.0    1.0    -2.0\n"
          ]
        },
        {
          "output_type": "execute_result",
          "data": {
            "text/plain": [
              "Power_divergenceResult(statistic=1.9355311446886447, pvalue=0.8579917092086898)"
            ]
          },
          "metadata": {},
          "execution_count": 46
        }
      ]
    },
    {
      "cell_type": "markdown",
      "source": [
        "### Result: when the ['package_n']==48, The Chi-Square test statistic is found to be 1.93 and the corresponding p-value is 0.857.\n",
        "\n",
        "### Interpretation: Since the p-value (0.015) is NOT less than 0.05, we failed to reject the null hypothesis. This means the we do NOT have sufficient evidence to say true M&M color distribution of M$M (package 48) is different than the company claimed."
      ],
      "metadata": {
        "id": "uISg7HjDWPPW"
      }
    },
    {
      "cell_type": "code",
      "source": [
        ""
      ],
      "metadata": {
        "id": "frR11_2XWLvD"
      },
      "execution_count": null,
      "outputs": []
    }
  ]
}